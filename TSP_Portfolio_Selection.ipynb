{
 "cells": [
  {
   "cell_type": "markdown",
   "metadata": {},
   "source": [
    "TSP Portfolio Selection\n",
    "==\n",
    "[Rooholah Hadadi](mailto: rhadadi@gmail.com) <br>\n",
    "Novomber 2017\n"
   ]
  },
  {
   "cell_type": "code",
   "execution_count": null,
   "metadata": {
    "collapsed": true
   },
   "outputs": [],
   "source": [
    "import pandas as pd\n",
    "import numpy as np\n",
    "%matplotlib inline\n",
    "import matplotlib.pyplot as plt\n",
    "import cvxopt as opt\n",
    "from cvxopt import blas, solvers\n",
    "solvers.options['show_progress'] = False\n"
   ]
  },
  {
   "cell_type": "markdown",
   "metadata": {},
   "source": [
    "## Loading price data "
   ]
  },
  {
   "cell_type": "code",
   "execution_count": 195,
   "metadata": {
    "collapsed": true
   },
   "outputs": [],
   "source": [
    "url = \"https://raw.githubusercontent.com/Rhadadi/portfolio-selection/master/shareprices-3.csv\"\n",
    "prices = pd.read_csv(url, parse_dates=True , encoding='latin-1' , index_col='date', usecols=range(11))\n",
    "prices = prices.dropna( axis=0 , how='all')\n",
    "prices.columns = prices.columns.str.strip().str.replace(\" \", \"_\")"
   ]
  },
  {
   "cell_type": "code",
   "execution_count": 196,
   "metadata": {
    "scrolled": false
   },
   "outputs": [
    {
     "name": "stdout",
     "output_type": "stream",
     "text": [
      "<class 'pandas.core.frame.DataFrame'>\n",
      "DatetimeIndex: 3620 entries, 2017-11-24 to 2003-06-02\n",
      "Data columns (total 10 columns):\n",
      "L_Income    3079 non-null float64\n",
      "L_2020      3079 non-null float64\n",
      "L_2030      3079 non-null float64\n",
      "L_2040      3079 non-null float64\n",
      "L_2050      1705 non-null float64\n",
      "G_Fund      3620 non-null float64\n",
      "F_Fund      3620 non-null float64\n",
      "C_Fund      3620 non-null float64\n",
      "S_Fund      3620 non-null float64\n",
      "I_Fund      3620 non-null float64\n",
      "dtypes: float64(10)\n",
      "memory usage: 311.1 KB\n"
     ]
    }
   ],
   "source": [
    "prices = prices.apply(pd.to_numeric, errors='coerce')\n",
    "prices.info()"
   ]
  },
  {
   "cell_type": "code",
   "execution_count": 136,
   "metadata": {},
   "outputs": [
    {
     "data": {
      "text/html": [
       "<div>\n",
       "<style scoped>\n",
       "    .dataframe tbody tr th:only-of-type {\n",
       "        vertical-align: middle;\n",
       "    }\n",
       "\n",
       "    .dataframe tbody tr th {\n",
       "        vertical-align: top;\n",
       "    }\n",
       "\n",
       "    .dataframe thead th {\n",
       "        text-align: right;\n",
       "    }\n",
       "</style>\n",
       "<table border=\"1\" class=\"dataframe\">\n",
       "  <thead>\n",
       "    <tr style=\"text-align: right;\">\n",
       "      <th></th>\n",
       "      <th>L_Income</th>\n",
       "      <th>L_2020</th>\n",
       "      <th>L_2030</th>\n",
       "      <th>L_2040</th>\n",
       "      <th>L_2050</th>\n",
       "      <th>G_Fund</th>\n",
       "      <th>F_Fund</th>\n",
       "      <th>C_Fund</th>\n",
       "      <th>S_Fund</th>\n",
       "      <th>I_Fund</th>\n",
       "    </tr>\n",
       "    <tr>\n",
       "      <th>date</th>\n",
       "      <th></th>\n",
       "      <th></th>\n",
       "      <th></th>\n",
       "      <th></th>\n",
       "      <th></th>\n",
       "      <th></th>\n",
       "      <th></th>\n",
       "      <th></th>\n",
       "      <th></th>\n",
       "      <th></th>\n",
       "    </tr>\n",
       "  </thead>\n",
       "  <tbody>\n",
       "    <tr>\n",
       "      <th>2017-11-24</th>\n",
       "      <td>19.4237</td>\n",
       "      <td>26.6253</td>\n",
       "      <td>30.2784</td>\n",
       "      <td>32.9077</td>\n",
       "      <td>19.0287</td>\n",
       "      <td>15.5033</td>\n",
       "      <td>18.0844</td>\n",
       "      <td>36.5394</td>\n",
       "      <td>47.6260</td>\n",
       "      <td>30.4089</td>\n",
       "    </tr>\n",
       "    <tr>\n",
       "      <th>2017-11-22</th>\n",
       "      <td>19.4068</td>\n",
       "      <td>26.5849</td>\n",
       "      <td>30.2027</td>\n",
       "      <td>32.8111</td>\n",
       "      <td>18.9653</td>\n",
       "      <td>15.5013</td>\n",
       "      <td>18.0978</td>\n",
       "      <td>36.4626</td>\n",
       "      <td>47.5404</td>\n",
       "      <td>30.1435</td>\n",
       "    </tr>\n",
       "    <tr>\n",
       "      <th>2017-11-21</th>\n",
       "      <td>19.3993</td>\n",
       "      <td>26.5702</td>\n",
       "      <td>30.1787</td>\n",
       "      <td>32.7814</td>\n",
       "      <td>18.9468</td>\n",
       "      <td>15.5003</td>\n",
       "      <td>18.0555</td>\n",
       "      <td>36.4867</td>\n",
       "      <td>47.5589</td>\n",
       "      <td>30.0002</td>\n",
       "    </tr>\n",
       "    <tr>\n",
       "      <th>2017-11-20</th>\n",
       "      <td>19.3736</td>\n",
       "      <td>26.5084</td>\n",
       "      <td>30.0626</td>\n",
       "      <td>32.6328</td>\n",
       "      <td>18.8492</td>\n",
       "      <td>15.4993</td>\n",
       "      <td>18.0400</td>\n",
       "      <td>36.2491</td>\n",
       "      <td>47.1481</td>\n",
       "      <td>29.8790</td>\n",
       "    </tr>\n",
       "    <tr>\n",
       "      <th>2017-11-17</th>\n",
       "      <td>19.3647</td>\n",
       "      <td>26.4893</td>\n",
       "      <td>30.0284</td>\n",
       "      <td>32.5891</td>\n",
       "      <td>18.8202</td>\n",
       "      <td>15.4962</td>\n",
       "      <td>18.0499</td>\n",
       "      <td>36.2014</td>\n",
       "      <td>46.9125</td>\n",
       "      <td>29.8486</td>\n",
       "    </tr>\n",
       "  </tbody>\n",
       "</table>\n",
       "</div>"
      ],
      "text/plain": [
       "            L_Income   L_2020   L_2030   L_2040   L_2050   G_Fund   F_Fund  \\\n",
       "date                                                                         \n",
       "2017-11-24   19.4237  26.6253  30.2784  32.9077  19.0287  15.5033  18.0844   \n",
       "2017-11-22   19.4068  26.5849  30.2027  32.8111  18.9653  15.5013  18.0978   \n",
       "2017-11-21   19.3993  26.5702  30.1787  32.7814  18.9468  15.5003  18.0555   \n",
       "2017-11-20   19.3736  26.5084  30.0626  32.6328  18.8492  15.4993  18.0400   \n",
       "2017-11-17   19.3647  26.4893  30.0284  32.5891  18.8202  15.4962  18.0499   \n",
       "\n",
       "             C_Fund   S_Fund   I_Fund  \n",
       "date                                   \n",
       "2017-11-24  36.5394  47.6260  30.4089  \n",
       "2017-11-22  36.4626  47.5404  30.1435  \n",
       "2017-11-21  36.4867  47.5589  30.0002  \n",
       "2017-11-20  36.2491  47.1481  29.8790  \n",
       "2017-11-17  36.2014  46.9125  29.8486  "
      ]
     },
     "execution_count": 136,
     "metadata": {},
     "output_type": "execute_result"
    }
   ],
   "source": [
    "prices.head()"
   ]
  },
  {
   "cell_type": "markdown",
   "metadata": {},
   "source": [
    "# Method 1, Markowitz Portfolio Optimization"
   ]
  },
  {
   "cell_type": "code",
   "execution_count": 5,
   "metadata": {
    "collapsed": true,
    "scrolled": true
   },
   "outputs": [],
   "source": [
    "returns2 = prices.pct_change(-1).dropna(how='all')\n",
    "\n",
    "mean_daily_returns = returns2.mean()\n",
    "cov_matrix = returns2.cov()\n"
   ]
  },
  {
   "cell_type": "code",
   "execution_count": 6,
   "metadata": {},
   "outputs": [
    {
     "data": {
      "text/plain": [
       "(13, 250000)"
      ]
     },
     "execution_count": 6,
     "metadata": {},
     "output_type": "execute_result"
    }
   ],
   "source": [
    "#set number of runs of random portfolio weights\n",
    "num_portfolios = 250000\n",
    "\n",
    "#set up array to hold results\n",
    "results = np.zeros((13,num_portfolios))\n",
    "results.shape"
   ]
  },
  {
   "cell_type": "code",
   "execution_count": 7,
   "metadata": {
    "collapsed": true
   },
   "outputs": [],
   "source": [
    "for i in range(num_portfolios):\n",
    "    #select random weights for portfolio holdings\n",
    "    weights = np.random.random(10)\n",
    "    #rebalance weights to sum to 1\n",
    "    weights /= np.sum(weights)\n",
    " \n",
    "    #calculate portfolio return and volatility\n",
    "    portfolio_return = np.sum(mean_daily_returns * weights) * 252\n",
    "    portfolio_std_dev = np.sqrt(np.dot(weights.T,np.dot(cov_matrix, weights))) * np.sqrt(252)\n",
    " \n",
    "    #store results in results array\n",
    "    results[0,i] = portfolio_return\n",
    "    results[1,i] = portfolio_std_dev\n",
    "    #store Sharpe Ratio (return / volatility) - risk free rate element excluded for simplicity\n",
    "    results[2,i] = (results[0,i]-.05) / results[1,i]\n",
    "    for j in range(10):\n",
    "        results[j+3,i] = weights[j]*100"
   ]
  },
  {
   "cell_type": "code",
   "execution_count": 8,
   "metadata": {
    "collapsed": true
   },
   "outputs": [],
   "source": [
    "col = [\"return\", \"stdv\", \"sharpe\"]\n",
    "columns = col+(prices.columns.tolist())\n"
   ]
  },
  {
   "cell_type": "code",
   "execution_count": 9,
   "metadata": {},
   "outputs": [
    {
     "data": {
      "text/html": [
       "<div>\n",
       "<style scoped>\n",
       "    .dataframe tbody tr th:only-of-type {\n",
       "        vertical-align: middle;\n",
       "    }\n",
       "\n",
       "    .dataframe tbody tr th {\n",
       "        vertical-align: top;\n",
       "    }\n",
       "\n",
       "    .dataframe thead th {\n",
       "        text-align: right;\n",
       "    }\n",
       "</style>\n",
       "<table border=\"1\" class=\"dataframe\">\n",
       "  <thead>\n",
       "    <tr style=\"text-align: right;\">\n",
       "      <th></th>\n",
       "      <th>return</th>\n",
       "      <th>stdv</th>\n",
       "      <th>sharpe</th>\n",
       "      <th>L_Income</th>\n",
       "      <th>L_2020</th>\n",
       "      <th>L_2030</th>\n",
       "      <th>L_2040</th>\n",
       "      <th>L_2050</th>\n",
       "      <th>G_Fund</th>\n",
       "      <th>F_Fund</th>\n",
       "      <th>C_Fund</th>\n",
       "      <th>S_Fund</th>\n",
       "      <th>I_Fund</th>\n",
       "    </tr>\n",
       "  </thead>\n",
       "  <tbody>\n",
       "    <tr>\n",
       "      <th>82167</th>\n",
       "      <td>0.101456</td>\n",
       "      <td>0.141197</td>\n",
       "      <td>0.364423</td>\n",
       "      <td>3.843738</td>\n",
       "      <td>0.947191</td>\n",
       "      <td>3.745077</td>\n",
       "      <td>0.208823</td>\n",
       "      <td>32.228046</td>\n",
       "      <td>0.282388</td>\n",
       "      <td>7.580225</td>\n",
       "      <td>17.776784</td>\n",
       "      <td>24.488742</td>\n",
       "      <td>8.898985</td>\n",
       "    </tr>\n",
       "    <tr>\n",
       "      <th>166740</th>\n",
       "      <td>0.096976</td>\n",
       "      <td>0.129605</td>\n",
       "      <td>0.362450</td>\n",
       "      <td>14.833561</td>\n",
       "      <td>0.514144</td>\n",
       "      <td>2.777406</td>\n",
       "      <td>0.374530</td>\n",
       "      <td>33.584508</td>\n",
       "      <td>5.813217</td>\n",
       "      <td>1.650280</td>\n",
       "      <td>6.148350</td>\n",
       "      <td>32.193029</td>\n",
       "      <td>2.110975</td>\n",
       "    </tr>\n",
       "    <tr>\n",
       "      <th>97843</th>\n",
       "      <td>0.096153</td>\n",
       "      <td>0.128896</td>\n",
       "      <td>0.358066</td>\n",
       "      <td>0.085948</td>\n",
       "      <td>2.107201</td>\n",
       "      <td>2.114310</td>\n",
       "      <td>11.258121</td>\n",
       "      <td>41.466775</td>\n",
       "      <td>10.382899</td>\n",
       "      <td>2.680466</td>\n",
       "      <td>4.514870</td>\n",
       "      <td>21.707975</td>\n",
       "      <td>3.681434</td>\n",
       "    </tr>\n",
       "    <tr>\n",
       "      <th>14717</th>\n",
       "      <td>0.098586</td>\n",
       "      <td>0.137435</td>\n",
       "      <td>0.353518</td>\n",
       "      <td>2.578937</td>\n",
       "      <td>2.949987</td>\n",
       "      <td>1.754974</td>\n",
       "      <td>12.983608</td>\n",
       "      <td>29.122878</td>\n",
       "      <td>3.342754</td>\n",
       "      <td>7.718267</td>\n",
       "      <td>10.003552</td>\n",
       "      <td>29.320344</td>\n",
       "      <td>0.224699</td>\n",
       "    </tr>\n",
       "    <tr>\n",
       "      <th>110239</th>\n",
       "      <td>0.100280</td>\n",
       "      <td>0.142385</td>\n",
       "      <td>0.353129</td>\n",
       "      <td>0.604550</td>\n",
       "      <td>1.923851</td>\n",
       "      <td>2.635543</td>\n",
       "      <td>0.610692</td>\n",
       "      <td>17.838991</td>\n",
       "      <td>4.518919</td>\n",
       "      <td>11.439790</td>\n",
       "      <td>21.814597</td>\n",
       "      <td>32.382886</td>\n",
       "      <td>6.230180</td>\n",
       "    </tr>\n",
       "  </tbody>\n",
       "</table>\n",
       "</div>"
      ],
      "text/plain": [
       "          return      stdv    sharpe   L_Income    L_2020    L_2030  \\\n",
       "82167   0.101456  0.141197  0.364423   3.843738  0.947191  3.745077   \n",
       "166740  0.096976  0.129605  0.362450  14.833561  0.514144  2.777406   \n",
       "97843   0.096153  0.128896  0.358066   0.085948  2.107201  2.114310   \n",
       "14717   0.098586  0.137435  0.353518   2.578937  2.949987  1.754974   \n",
       "110239  0.100280  0.142385  0.353129   0.604550  1.923851  2.635543   \n",
       "\n",
       "           L_2040     L_2050     G_Fund     F_Fund     C_Fund     S_Fund  \\\n",
       "82167    0.208823  32.228046   0.282388   7.580225  17.776784  24.488742   \n",
       "166740   0.374530  33.584508   5.813217   1.650280   6.148350  32.193029   \n",
       "97843   11.258121  41.466775  10.382899   2.680466   4.514870  21.707975   \n",
       "14717   12.983608  29.122878   3.342754   7.718267  10.003552  29.320344   \n",
       "110239   0.610692  17.838991   4.518919  11.439790  21.814597  32.382886   \n",
       "\n",
       "          I_Fund  \n",
       "82167   8.898985  \n",
       "166740  2.110975  \n",
       "97843   3.681434  \n",
       "14717   0.224699  \n",
       "110239  6.230180  "
      ]
     },
     "execution_count": 9,
     "metadata": {},
     "output_type": "execute_result"
    }
   ],
   "source": [
    "port=pd.DataFrame(results.T).sort_values(2, ascending=False)\n",
    "port.columns=columns\n",
    "port.head()"
   ]
  },
  {
   "cell_type": "code",
   "execution_count": 57,
   "metadata": {
    "scrolled": true
   },
   "outputs": [
    {
     "data": {
      "image/png": "[encoded data removed]",
      "text/plain": [
       "<matplotlib.figure.Figure at 0x110d091d0>"
      ]
     },
     "metadata": {},
     "output_type": "display_data"
    }
   ],
   "source": [
    "import matplotlib.pyplot as plt\n",
    "%matplotlib inline\n",
    "\n",
    "#locate position of portfolio with highest Sharpe Ratio\n",
    "max_sharpe_port = port[port.index == port['sharpe'].idxmax()].values.flatten()\n",
    "#locate positon of portfolio with minimum standard deviation\n",
    "min_vol_port = port[port.index == port['stdv'].idxmin()].values.flatten()\n",
    "\n",
    "\n",
    "plt.xlabel('Volatility')\n",
    "plt.ylabel('Returns')\n",
    "fig1 = plt.scatter(port['stdv'], port['return'] , c=port.sharpe,cmap='RdYlBu')\n",
    "\n",
    "\n",
    "#plot red star to highlight position of portfolio with highest Sharpe Ratio\n",
    "plt.scatter(max_sharpe_port[1],max_sharpe_port[0],marker=(6,1,0),color='r',s=500)\n",
    "#plot green star to highlight position of minimum variance portfolio\n",
    "plt.scatter(min_vol_port[1],min_vol_port[0],marker=(6,1,0),color='g',s=500)\n",
    "\n",
    "plt.colorbar(fig1)\n",
    "plt.show()\n"
   ]
  },
  {
   "cell_type": "markdown",
   "metadata": {},
   "source": [
    "Method 2, Again Markowitz but Using cvxopt Package\n",
    "=="
   ]
  },
  {
   "cell_type": "code",
   "execution_count": 109,
   "metadata": {
    "scrolled": true
   },
   "outputs": [
    {
     "data": {
      "text/html": [
       "<div>\n",
       "<style scoped>\n",
       "    .dataframe tbody tr th:only-of-type {\n",
       "        vertical-align: middle;\n",
       "    }\n",
       "\n",
       "    .dataframe tbody tr th {\n",
       "        vertical-align: top;\n",
       "    }\n",
       "\n",
       "    .dataframe thead th {\n",
       "        text-align: right;\n",
       "    }\n",
       "</style>\n",
       "<table border=\"1\" class=\"dataframe\">\n",
       "  <thead>\n",
       "    <tr style=\"text-align: right;\">\n",
       "      <th>date</th>\n",
       "      <th>2017-11-24 00:00:00</th>\n",
       "      <th>2017-11-22 00:00:00</th>\n",
       "      <th>2017-11-21 00:00:00</th>\n",
       "      <th>2017-11-20 00:00:00</th>\n",
       "      <th>2017-11-17 00:00:00</th>\n",
       "      <th>2017-11-16 00:00:00</th>\n",
       "      <th>2017-11-15 00:00:00</th>\n",
       "      <th>2017-11-14 00:00:00</th>\n",
       "      <th>2017-11-13 00:00:00</th>\n",
       "      <th>2017-11-10 00:00:00</th>\n",
       "      <th>...</th>\n",
       "      <th>2003-06-17 00:00:00</th>\n",
       "      <th>2003-06-16 00:00:00</th>\n",
       "      <th>2003-06-13 00:00:00</th>\n",
       "      <th>2003-06-12 00:00:00</th>\n",
       "      <th>2003-06-11 00:00:00</th>\n",
       "      <th>2003-06-10 00:00:00</th>\n",
       "      <th>2003-06-06 00:00:00</th>\n",
       "      <th>2003-06-05 00:00:00</th>\n",
       "      <th>2003-06-04 00:00:00</th>\n",
       "      <th>2003-06-03 00:00:00</th>\n",
       "    </tr>\n",
       "  </thead>\n",
       "  <tbody>\n",
       "    <tr>\n",
       "      <th>G_Fund</th>\n",
       "      <td>0.000129</td>\n",
       "      <td>0.000065</td>\n",
       "      <td>0.000065</td>\n",
       "      <td>0.000200</td>\n",
       "      <td>0.000065</td>\n",
       "      <td>0.000065</td>\n",
       "      <td>0.000065</td>\n",
       "      <td>0.000065</td>\n",
       "      <td>0.000194</td>\n",
       "      <td>0.000065</td>\n",
       "      <td>...</td>\n",
       "      <td>0.000000</td>\n",
       "      <td>0.000000</td>\n",
       "      <td>0.000000</td>\n",
       "      <td>0.000000</td>\n",
       "      <td>0.000000</td>\n",
       "      <td>0.001000</td>\n",
       "      <td>0.000000</td>\n",
       "      <td>0.000000</td>\n",
       "      <td>0.000000</td>\n",
       "      <td>0.000000</td>\n",
       "    </tr>\n",
       "    <tr>\n",
       "      <th>F_Fund</th>\n",
       "      <td>-0.000740</td>\n",
       "      <td>0.002343</td>\n",
       "      <td>0.000859</td>\n",
       "      <td>-0.000548</td>\n",
       "      <td>0.000410</td>\n",
       "      <td>-0.000958</td>\n",
       "      <td>0.001920</td>\n",
       "      <td>0.000977</td>\n",
       "      <td>0.000150</td>\n",
       "      <td>-0.003586</td>\n",
       "      <td>...</td>\n",
       "      <td>-0.002976</td>\n",
       "      <td>-0.001980</td>\n",
       "      <td>0.001984</td>\n",
       "      <td>0.000993</td>\n",
       "      <td>0.000000</td>\n",
       "      <td>0.007000</td>\n",
       "      <td>0.000000</td>\n",
       "      <td>-0.001996</td>\n",
       "      <td>0.000999</td>\n",
       "      <td>0.004012</td>\n",
       "    </tr>\n",
       "    <tr>\n",
       "      <th>C_Fund</th>\n",
       "      <td>0.002106</td>\n",
       "      <td>-0.000661</td>\n",
       "      <td>0.006555</td>\n",
       "      <td>0.001318</td>\n",
       "      <td>-0.002598</td>\n",
       "      <td>0.008508</td>\n",
       "      <td>-0.005296</td>\n",
       "      <td>-0.002148</td>\n",
       "      <td>0.001005</td>\n",
       "      <td>-0.000549</td>\n",
       "      <td>...</td>\n",
       "      <td>0.000953</td>\n",
       "      <td>0.022417</td>\n",
       "      <td>-0.010608</td>\n",
       "      <td>0.001932</td>\n",
       "      <td>0.012720</td>\n",
       "      <td>-0.002927</td>\n",
       "      <td>-0.001947</td>\n",
       "      <td>0.003910</td>\n",
       "      <td>0.014881</td>\n",
       "      <td>0.004985</td>\n",
       "    </tr>\n",
       "    <tr>\n",
       "      <th>S_Fund</th>\n",
       "      <td>0.001801</td>\n",
       "      <td>-0.000389</td>\n",
       "      <td>0.008713</td>\n",
       "      <td>0.005022</td>\n",
       "      <td>0.004329</td>\n",
       "      <td>0.012106</td>\n",
       "      <td>-0.004495</td>\n",
       "      <td>-0.002573</td>\n",
       "      <td>0.000530</td>\n",
       "      <td>0.001045</td>\n",
       "      <td>...</td>\n",
       "      <td>0.000962</td>\n",
       "      <td>0.016618</td>\n",
       "      <td>-0.011594</td>\n",
       "      <td>0.002907</td>\n",
       "      <td>0.012758</td>\n",
       "      <td>-0.005854</td>\n",
       "      <td>-0.004854</td>\n",
       "      <td>0.009804</td>\n",
       "      <td>0.015936</td>\n",
       "      <td>-0.000995</td>\n",
       "    </tr>\n",
       "    <tr>\n",
       "      <th>I_Fund</th>\n",
       "      <td>0.008805</td>\n",
       "      <td>0.004777</td>\n",
       "      <td>0.004056</td>\n",
       "      <td>0.001018</td>\n",
       "      <td>0.000285</td>\n",
       "      <td>0.006252</td>\n",
       "      <td>-0.005383</td>\n",
       "      <td>-0.000238</td>\n",
       "      <td>-0.006705</td>\n",
       "      <td>-0.001530</td>\n",
       "      <td>...</td>\n",
       "      <td>0.008475</td>\n",
       "      <td>0.012393</td>\n",
       "      <td>-0.004744</td>\n",
       "      <td>0.004766</td>\n",
       "      <td>0.016473</td>\n",
       "      <td>-0.004822</td>\n",
       "      <td>0.008755</td>\n",
       "      <td>0.009823</td>\n",
       "      <td>0.005929</td>\n",
       "      <td>-0.004916</td>\n",
       "    </tr>\n",
       "  </tbody>\n",
       "</table>\n",
       "<p>5 rows × 3619 columns</p>\n",
       "</div>"
      ],
      "text/plain": [
       "date    2017-11-24  2017-11-22  2017-11-21  2017-11-20  2017-11-17  \\\n",
       "G_Fund    0.000129    0.000065    0.000065    0.000200    0.000065   \n",
       "F_Fund   -0.000740    0.002343    0.000859   -0.000548    0.000410   \n",
       "C_Fund    0.002106   -0.000661    0.006555    0.001318   -0.002598   \n",
       "S_Fund    0.001801   -0.000389    0.008713    0.005022    0.004329   \n",
       "I_Fund    0.008805    0.004777    0.004056    0.001018    0.000285   \n",
       "\n",
       "date    2017-11-16  2017-11-15  2017-11-14  2017-11-13  2017-11-10  \\\n",
       "G_Fund    0.000065    0.000065    0.000065    0.000194    0.000065   \n",
       "F_Fund   -0.000958    0.001920    0.000977    0.000150   -0.003586   \n",
       "C_Fund    0.008508   -0.005296   -0.002148    0.001005   -0.000549   \n",
       "S_Fund    0.012106   -0.004495   -0.002573    0.000530    0.001045   \n",
       "I_Fund    0.006252   -0.005383   -0.000238   -0.006705   -0.001530   \n",
       "\n",
       "date       ...      2003-06-17  2003-06-16  2003-06-13  2003-06-12  \\\n",
       "G_Fund     ...        0.000000    0.000000    0.000000    0.000000   \n",
       "F_Fund     ...       -0.002976   -0.001980    0.001984    0.000993   \n",
       "C_Fund     ...        0.000953    0.022417   -0.010608    0.001932   \n",
       "S_Fund     ...        0.000962    0.016618   -0.011594    0.002907   \n",
       "I_Fund     ...        0.008475    0.012393   -0.004744    0.004766   \n",
       "\n",
       "date    2003-06-11  2003-06-10  2003-06-06  2003-06-05  2003-06-04  2003-06-03  \n",
       "G_Fund    0.000000    0.001000    0.000000    0.000000    0.000000    0.000000  \n",
       "F_Fund    0.000000    0.007000    0.000000   -0.001996    0.000999    0.004012  \n",
       "C_Fund    0.012720   -0.002927   -0.001947    0.003910    0.014881    0.004985  \n",
       "S_Fund    0.012758   -0.005854   -0.004854    0.009804    0.015936   -0.000995  \n",
       "I_Fund    0.016473   -0.004822    0.008755    0.009823    0.005929   -0.004916  \n",
       "\n",
       "[5 rows x 3619 columns]"
      ]
     },
     "execution_count": 109,
     "metadata": {},
     "output_type": "execute_result"
    }
   ],
   "source": [
    "returns = prices.pct_change(-1).dropna(how='all')\n",
    "returns2 = returns.iloc[:,5:10].T\n",
    "returns2"
   ]
  },
  {
   "cell_type": "code",
   "execution_count": 110,
   "metadata": {
    "scrolled": true
   },
   "outputs": [
    {
     "data": {
      "text/plain": [
       "array([[ 0.0325134 ,  0.01625775,  0.0162588 , ...,  0.        ,\n",
       "         0.        ,  0.        ],\n",
       "       [-0.18658621,  0.59037966,  0.21651885, ..., -0.50299401,\n",
       "         0.25174825,  1.0110331 ],\n",
       "       [ 0.53077948, -0.16644969,  1.65177066, ...,  0.98533724,\n",
       "         3.75      ,  1.25623131],\n",
       "       [ 0.4537446 , -0.09802582,  2.19566854, ...,  2.47058824,\n",
       "         4.01593625, -0.25074627],\n",
       "       [ 2.21874699,  1.20371198,  1.02220288, ...,  2.47544204,\n",
       "         1.49407115, -1.23893805]])"
      ]
     },
     "execution_count": 110,
     "metadata": {},
     "output_type": "execute_result"
    }
   ],
   "source": [
    "returns_vector = returns2.as_matrix()*252\n",
    "returns_vector"
   ]
  },
  {
   "cell_type": "code",
   "execution_count": 99,
   "metadata": {
    "collapsed": true
   },
   "outputs": [],
   "source": [
    "N = 1000\n",
    "mus = [10**(5.0 * t/N - 1.0) for t in range(N)]\n",
    "S = opt.matrix(np.cov(returns_vector))\n",
    "pbar = opt.matrix(np.mean(returns_vector, axis=1))"
   ]
  },
  {
   "cell_type": "code",
   "execution_count": 100,
   "metadata": {
    "collapsed": true
   },
   "outputs": [],
   "source": [
    "n=len(returns_vector)\n",
    "G = -opt.matrix(np.eye(n)) \n",
    "h = opt.matrix(0.0, (n ,1))\n",
    "A = opt.matrix(1.0, (1, n))\n",
    "b = opt.matrix(1.0)"
   ]
  },
  {
   "cell_type": "code",
   "execution_count": 101,
   "metadata": {
    "collapsed": true
   },
   "outputs": [],
   "source": [
    "portfolios = [solvers.qp(mu*S, -pbar, G, h, A, b)['x'] \n",
    "                  for mu in mus]\n"
   ]
  },
  {
   "cell_type": "code",
   "execution_count": 102,
   "metadata": {
    "collapsed": true
   },
   "outputs": [],
   "source": [
    "returns = [blas.dot(pbar, x) for x in portfolios]\n",
    "risks = [np.sqrt(blas.dot(x, S*x)) for x in portfolios]\n",
    "\n"
   ]
  },
  {
   "cell_type": "code",
   "execution_count": 104,
   "metadata": {
    "collapsed": true,
    "scrolled": true
   },
   "outputs": [],
   "source": [
    "m1 = np.polyfit(returns, risks, 2)\n",
    "x1 = np.sqrt(m1[2] / m1[0])\n",
    "\n"
   ]
  },
  {
   "cell_type": "code",
   "execution_count": 107,
   "metadata": {
    "collapsed": true
   },
   "outputs": [],
   "source": [
    "wt = solvers.qp(opt.matrix(x1 * S), -pbar, G, h, A, b)['x']\n"
   ]
  },
  {
   "cell_type": "markdown",
   "metadata": {},
   "source": [
    "OPTIMAL WEIGHTS\n",
    "=="
   ]
  },
  {
   "cell_type": "code",
   "execution_count": 112,
   "metadata": {
    "scrolled": false
   },
   "outputs": [
    {
     "data": {
      "text/html": [
       "<div>\n",
       "<style scoped>\n",
       "    .dataframe tbody tr th:only-of-type {\n",
       "        vertical-align: middle;\n",
       "    }\n",
       "\n",
       "    .dataframe tbody tr th {\n",
       "        vertical-align: top;\n",
       "    }\n",
       "\n",
       "    .dataframe thead th {\n",
       "        text-align: right;\n",
       "    }\n",
       "</style>\n",
       "<table border=\"1\" class=\"dataframe\">\n",
       "  <thead>\n",
       "    <tr style=\"text-align: right;\">\n",
       "      <th></th>\n",
       "      <th>weights</th>\n",
       "    </tr>\n",
       "  </thead>\n",
       "  <tbody>\n",
       "    <tr>\n",
       "      <th>G_Fund</th>\n",
       "      <td>0.0</td>\n",
       "    </tr>\n",
       "    <tr>\n",
       "      <th>F_Fund</th>\n",
       "      <td>52.0</td>\n",
       "    </tr>\n",
       "    <tr>\n",
       "      <th>C_Fund</th>\n",
       "      <td>0.0</td>\n",
       "    </tr>\n",
       "    <tr>\n",
       "      <th>S_Fund</th>\n",
       "      <td>48.0</td>\n",
       "    </tr>\n",
       "    <tr>\n",
       "      <th>I_Fund</th>\n",
       "      <td>0.0</td>\n",
       "    </tr>\n",
       "  </tbody>\n",
       "</table>\n",
       "</div>"
      ],
      "text/plain": [
       "        weights\n",
       "G_Fund      0.0\n",
       "F_Fund     52.0\n",
       "C_Fund      0.0\n",
       "S_Fund     48.0\n",
       "I_Fund      0.0"
      ]
     },
     "execution_count": 112,
     "metadata": {},
     "output_type": "execute_result"
    }
   ],
   "source": [
    "opt_weights = pd.DataFrame(np.round(np.asarray(wt)*100), index = returns2.index , columns=['weights'])\n",
    "opt_weights"
   ]
  },
  {
   "cell_type": "code",
   "execution_count": 125,
   "metadata": {},
   "outputs": [
    {
     "name": "stdout",
     "output_type": "stream",
     "text": [
      "optimial selection return is: [ 8.46709916] percent\n"
     ]
    }
   ],
   "source": [
    "opt_return = np.dot(opt_weights.T, pbar).flatten()\n",
    "print(\"optimial selection return is {x} percent\".format(x=opt_return))"
   ]
  },
  {
   "cell_type": "markdown",
   "metadata": {
    "collapsed": true
   },
   "source": [
    "Method 3, Using Different Optimization Criteria and `universal' Package\n",
    "=="
   ]
  },
  {
   "cell_type": "code",
   "execution_count": 153,
   "metadata": {
    "collapsed": true
   },
   "outputs": [],
   "source": [
    "\n",
    "from universal import tools\n",
    "from universal import algos\n",
    "import logging\n",
    "# we would like to see algos progress\n",
    "logging.basicConfig(format='%(asctime)s %(message)s', level=logging.DEBUG)\n"
   ]
  },
  {
   "cell_type": "code",
   "execution_count": 166,
   "metadata": {},
   "outputs": [
    {
     "name": "stderr",
     "output_type": "stream",
     "text": [
      "2017-11-26 00:42:12,004 Running OLMAR...\n",
      "2017-11-26 00:42:12,784 Progress: 10.0%...\n",
      "2017-11-26 00:42:13,655 Progress: 20.0%...\n",
      "2017-11-26 00:42:14,673 Progress: 30.0%...\n",
      "2017-11-26 00:42:15,545 Progress: 40.0%...\n",
      "2017-11-26 00:42:16,480 Progress: 50.0%...\n",
      "2017-11-26 00:42:17,331 Progress: 60.0%...\n",
      "2017-11-26 00:42:18,175 Progress: 70.0%...\n",
      "2017-11-26 00:42:19,071 Progress: 80.0%...\n",
      "2017-11-26 00:42:19,983 Progress: 90.0%...\n",
      "2017-11-26 00:42:20,841 OLMAR finished successfully.\n"
     ]
    }
   ],
   "source": [
    "algo = algos.OLMAR(window=5, eps=10)\n",
    "results = algo.run(prices)"
   ]
  },
  {
   "cell_type": "code",
   "execution_count": 167,
   "metadata": {},
   "outputs": [
    {
     "ename": "ModuleNotFoundError",
     "evalue": "No module named 'algos'",
     "output_type": "error",
     "traceback": [
      "\u001b[0;31m---------------------------------------------------------------------------\u001b[0m",
      "\u001b[0;31mModuleNotFoundError\u001b[0m                       Traceback (most recent call last)",
      "\u001b[0;32m<ipython-input-167-2aa333f0bf0c>\u001b[0m in \u001b[0;36m<module>\u001b[0;34m()\u001b[0m\n\u001b[1;32m      1\u001b[0m \u001b[0;31m# results.annualized_return()\u001b[0m\u001b[0;34m\u001b[0m\u001b[0;34m\u001b[0m\u001b[0m\n\u001b[0;32m----> 2\u001b[0;31m \u001b[0mresults\u001b[0m\u001b[0;34m.\u001b[0m\u001b[0mplot\u001b[0m\u001b[0;34m(\u001b[0m\u001b[0mweights\u001b[0m\u001b[0;34m=\u001b[0m\u001b[0;32mFalse\u001b[0m\u001b[0;34m,\u001b[0m \u001b[0massets\u001b[0m\u001b[0;34m=\u001b[0m\u001b[0;32mFalse\u001b[0m\u001b[0;34m,\u001b[0m \u001b[0mucrp\u001b[0m\u001b[0;34m=\u001b[0m\u001b[0;32mTrue\u001b[0m\u001b[0;34m,\u001b[0m \u001b[0mlogy\u001b[0m\u001b[0;34m=\u001b[0m\u001b[0;32mTrue\u001b[0m\u001b[0;34m)\u001b[0m\u001b[0;34m\u001b[0m\u001b[0m\n\u001b[0m",
      "\u001b[0;32m~/anaconda/lib/python3.6/site-packages/universal/result.py\u001b[0m in \u001b[0;36mplot\u001b[0;34m(self, weights, assets, portfolio_label, show_only_important, **kwargs)\u001b[0m\n\u001b[1;32m    229\u001b[0m         \u001b[0mres\u001b[0m \u001b[0;34m=\u001b[0m \u001b[0mListResult\u001b[0m\u001b[0;34m(\u001b[0m\u001b[0;34m[\u001b[0m\u001b[0mself\u001b[0m\u001b[0;34m]\u001b[0m\u001b[0;34m,\u001b[0m \u001b[0;34m[\u001b[0m\u001b[0mportfolio_label\u001b[0m\u001b[0;34m]\u001b[0m\u001b[0;34m)\u001b[0m\u001b[0;34m\u001b[0m\u001b[0m\n\u001b[1;32m    230\u001b[0m         \u001b[0;32mif\u001b[0m \u001b[0;32mnot\u001b[0m \u001b[0mweights\u001b[0m\u001b[0;34m:\u001b[0m\u001b[0;34m\u001b[0m\u001b[0m\n\u001b[0;32m--> 231\u001b[0;31m             \u001b[0max1\u001b[0m \u001b[0;34m=\u001b[0m \u001b[0mres\u001b[0m\u001b[0;34m.\u001b[0m\u001b[0mplot\u001b[0m\u001b[0;34m(\u001b[0m\u001b[0massets\u001b[0m\u001b[0;34m=\u001b[0m\u001b[0massets\u001b[0m\u001b[0;34m,\u001b[0m \u001b[0;34m**\u001b[0m\u001b[0mkwargs\u001b[0m\u001b[0;34m)\u001b[0m\u001b[0;34m\u001b[0m\u001b[0m\n\u001b[0m\u001b[1;32m    232\u001b[0m             \u001b[0;32mreturn\u001b[0m \u001b[0;34m[\u001b[0m\u001b[0max1\u001b[0m\u001b[0;34m]\u001b[0m\u001b[0;34m\u001b[0m\u001b[0m\n\u001b[1;32m    233\u001b[0m         \u001b[0;32melse\u001b[0m\u001b[0;34m:\u001b[0m\u001b[0;34m\u001b[0m\u001b[0m\n",
      "\u001b[0;32m~/anaconda/lib/python3.6/site-packages/universal/result.py\u001b[0m in \u001b[0;36mplot\u001b[0;34m(self, ucrp, bah, assets, **kwargs)\u001b[0m\n\u001b[1;32m    354\u001b[0m         \u001b[0;31m# plot uniform constant rebalanced portfolio\u001b[0m\u001b[0;34m\u001b[0m\u001b[0;34m\u001b[0m\u001b[0m\n\u001b[1;32m    355\u001b[0m         \u001b[0;32mif\u001b[0m \u001b[0mucrp\u001b[0m\u001b[0;34m:\u001b[0m\u001b[0;34m\u001b[0m\u001b[0m\n\u001b[0;32m--> 356\u001b[0;31m             \u001b[0;32mfrom\u001b[0m \u001b[0malgos\u001b[0m \u001b[0;32mimport\u001b[0m \u001b[0mCRP\u001b[0m\u001b[0;34m\u001b[0m\u001b[0m\n\u001b[0m\u001b[1;32m    357\u001b[0m             \u001b[0mcrp_algo\u001b[0m \u001b[0;34m=\u001b[0m \u001b[0mCRP\u001b[0m\u001b[0;34m(\u001b[0m\u001b[0;34m)\u001b[0m\u001b[0;34m.\u001b[0m\u001b[0mrun\u001b[0m\u001b[0;34m(\u001b[0m\u001b[0mself\u001b[0m\u001b[0;34m[\u001b[0m\u001b[0;36m0\u001b[0m\u001b[0;34m]\u001b[0m\u001b[0;34m.\u001b[0m\u001b[0mX\u001b[0m\u001b[0;34m.\u001b[0m\u001b[0mcumprod\u001b[0m\u001b[0;34m(\u001b[0m\u001b[0;34m)\u001b[0m\u001b[0;34m)\u001b[0m\u001b[0;34m\u001b[0m\u001b[0m\n\u001b[1;32m    358\u001b[0m             \u001b[0mcrp_algo\u001b[0m\u001b[0;34m.\u001b[0m\u001b[0mfee\u001b[0m \u001b[0;34m=\u001b[0m \u001b[0mself\u001b[0m\u001b[0;34m[\u001b[0m\u001b[0;36m0\u001b[0m\u001b[0;34m]\u001b[0m\u001b[0;34m.\u001b[0m\u001b[0mfee\u001b[0m\u001b[0;34m\u001b[0m\u001b[0m\n",
      "\u001b[0;31mModuleNotFoundError\u001b[0m: No module named 'algos'"
     ]
    },
    {
     "data": {
      "image/png": "[encoded data removed]",
      "text/plain": [
       "<matplotlib.figure.Figure at 0x11b3d2780>"
      ]
     },
     "metadata": {},
     "output_type": "display_data"
    }
   ],
   "source": [
    "# results.annualized_return()\n",
    "results.plot(weights=False, assets=False, ucrp=True, logy=True)\n"
   ]
  },
  {
   "cell_type": "code",
   "execution_count": 170,
   "metadata": {},
   "outputs": [
    {
     "ename": "AttributeError",
     "evalue": "'DatetimeIndex' object has no attribute 'order'",
     "output_type": "error",
     "traceback": [
      "\u001b[0;31m---------------------------------------------------------------------------\u001b[0m",
      "\u001b[0;31mAttributeError\u001b[0m                            Traceback (most recent call last)",
      "\u001b[0;32m<ipython-input-170-d71ad8a43186>\u001b[0m in \u001b[0;36m<module>\u001b[0;34m()\u001b[0m\n\u001b[0;32m----> 1\u001b[0;31m \u001b[0mprint\u001b[0m\u001b[0;34m(\u001b[0m\u001b[0mresults\u001b[0m\u001b[0;34m.\u001b[0m\u001b[0msummary\u001b[0m\u001b[0;34m(\u001b[0m\u001b[0;34m)\u001b[0m\u001b[0;34m)\u001b[0m\u001b[0;34m\u001b[0m\u001b[0m\n\u001b[0m",
      "\u001b[0;32m~/anaconda/lib/python3.6/site-packages/universal/result.py\u001b[0m in \u001b[0;36msummary\u001b[0;34m(self, name)\u001b[0m\n\u001b[1;32m    212\u001b[0m             \u001b[0;34m''\u001b[0m \u001b[0;32mif\u001b[0m \u001b[0mname\u001b[0m \u001b[0;32mis\u001b[0m \u001b[0;32mNone\u001b[0m \u001b[0;32melse\u001b[0m \u001b[0;34m' for '\u001b[0m \u001b[0;34m+\u001b[0m \u001b[0mname\u001b[0m\u001b[0;34m,\u001b[0m\u001b[0;34m\u001b[0m\u001b[0m\n\u001b[1;32m    213\u001b[0m             \u001b[0mself\u001b[0m\u001b[0;34m.\u001b[0m\u001b[0mprofit_factor\u001b[0m\u001b[0;34m,\u001b[0m\u001b[0;34m\u001b[0m\u001b[0m\n\u001b[0;32m--> 214\u001b[0;31m             \u001b[0mself\u001b[0m\u001b[0;34m.\u001b[0m\u001b[0msharpe\u001b[0m\u001b[0;34m,\u001b[0m\u001b[0;34m\u001b[0m\u001b[0m\n\u001b[0m\u001b[1;32m    215\u001b[0m             \u001b[0mself\u001b[0m\u001b[0;34m.\u001b[0m\u001b[0minformation\u001b[0m\u001b[0;34m,\u001b[0m\u001b[0;34m\u001b[0m\u001b[0m\n\u001b[1;32m    216\u001b[0m             \u001b[0;36m100\u001b[0m \u001b[0;34m*\u001b[0m \u001b[0mself\u001b[0m\u001b[0;34m.\u001b[0m\u001b[0mannualized_return\u001b[0m\u001b[0;34m,\u001b[0m\u001b[0;34m\u001b[0m\u001b[0m\n",
      "\u001b[0;32m~/anaconda/lib/python3.6/site-packages/universal/result.py\u001b[0m in \u001b[0;36msharpe\u001b[0;34m(self)\u001b[0m\n\u001b[1;32m    131\u001b[0m         \u001b[0;32mnot\u001b[0m \u001b[0mcontain\u001b[0m \u001b[0mdatetime\u001b[0m \u001b[0mindex\u001b[0m\u001b[0;34m,\u001b[0m \u001b[0massume\u001b[0m \u001b[0mdaily\u001b[0m \u001b[0mfrequency\u001b[0m \u001b[0;32mwith\u001b[0m \u001b[0;36m252\u001b[0m \u001b[0mtrading\u001b[0m \u001b[0mdays\u001b[0m \u001b[0ma\u001b[0m \u001b[0myear\u001b[0m\u001b[0;34m.\u001b[0m\u001b[0;34m\u001b[0m\u001b[0m\n\u001b[1;32m    132\u001b[0m         \"\"\"\n\u001b[0;32m--> 133\u001b[0;31m         \u001b[0;32mreturn\u001b[0m \u001b[0mtools\u001b[0m\u001b[0;34m.\u001b[0m\u001b[0msharpe\u001b[0m\u001b[0;34m(\u001b[0m\u001b[0mself\u001b[0m\u001b[0;34m.\u001b[0m\u001b[0mr_log\u001b[0m\u001b[0;34m,\u001b[0m \u001b[0mrf_rate\u001b[0m\u001b[0;34m=\u001b[0m\u001b[0mself\u001b[0m\u001b[0;34m.\u001b[0m\u001b[0mrf_rate\u001b[0m\u001b[0;34m,\u001b[0m \u001b[0mfreq\u001b[0m\u001b[0;34m=\u001b[0m\u001b[0mself\u001b[0m\u001b[0;34m.\u001b[0m\u001b[0mfreq\u001b[0m\u001b[0;34m(\u001b[0m\u001b[0;34m)\u001b[0m\u001b[0;34m)\u001b[0m\u001b[0;34m\u001b[0m\u001b[0m\n\u001b[0m\u001b[1;32m    134\u001b[0m \u001b[0;34m\u001b[0m\u001b[0m\n\u001b[1;32m    135\u001b[0m     \u001b[0;34m@\u001b[0m\u001b[0mproperty\u001b[0m\u001b[0;34m\u001b[0m\u001b[0m\n",
      "\u001b[0;32m~/anaconda/lib/python3.6/site-packages/universal/result.py\u001b[0m in \u001b[0;36mfreq\u001b[0;34m(self, x)\u001b[0m\n\u001b[1;32m    197\u001b[0m         datetime index, assume daily frequency with 252 trading days a year.\"\"\"\n\u001b[1;32m    198\u001b[0m         \u001b[0mx\u001b[0m \u001b[0;34m=\u001b[0m \u001b[0mx\u001b[0m \u001b[0;32mor\u001b[0m \u001b[0mself\u001b[0m\u001b[0;34m.\u001b[0m\u001b[0mr\u001b[0m\u001b[0;34m\u001b[0m\u001b[0m\n\u001b[0;32m--> 199\u001b[0;31m         \u001b[0;32mreturn\u001b[0m \u001b[0mtools\u001b[0m\u001b[0;34m.\u001b[0m\u001b[0mfreq\u001b[0m\u001b[0;34m(\u001b[0m\u001b[0mx\u001b[0m\u001b[0;34m.\u001b[0m\u001b[0mindex\u001b[0m\u001b[0;34m)\u001b[0m\u001b[0;34m\u001b[0m\u001b[0m\n\u001b[0m\u001b[1;32m    200\u001b[0m \u001b[0;34m\u001b[0m\u001b[0m\n\u001b[1;32m    201\u001b[0m     \u001b[0;32mdef\u001b[0m \u001b[0msummary\u001b[0m\u001b[0;34m(\u001b[0m\u001b[0mself\u001b[0m\u001b[0;34m,\u001b[0m \u001b[0mname\u001b[0m\u001b[0;34m=\u001b[0m\u001b[0;32mNone\u001b[0m\u001b[0;34m)\u001b[0m\u001b[0;34m:\u001b[0m\u001b[0;34m\u001b[0m\u001b[0m\n",
      "\u001b[0;32m~/anaconda/lib/python3.6/site-packages/universal/tools.py\u001b[0m in \u001b[0;36mfreq\u001b[0;34m(ix)\u001b[0m\n\u001b[1;32m    392\u001b[0m     \u001b[0;31m# sort if data is not monotonic\u001b[0m\u001b[0;34m\u001b[0m\u001b[0;34m\u001b[0m\u001b[0m\n\u001b[1;32m    393\u001b[0m     \u001b[0;32mif\u001b[0m \u001b[0;32mnot\u001b[0m \u001b[0mix\u001b[0m\u001b[0;34m.\u001b[0m\u001b[0mis_monotonic\u001b[0m\u001b[0;34m:\u001b[0m\u001b[0;34m\u001b[0m\u001b[0m\n\u001b[0;32m--> 394\u001b[0;31m         \u001b[0mix\u001b[0m \u001b[0;34m=\u001b[0m \u001b[0mix\u001b[0m\u001b[0;34m.\u001b[0m\u001b[0msort_values\u001b[0m\u001b[0;34m(\u001b[0m\u001b[0;34m)\u001b[0m\u001b[0;34m\u001b[0m\u001b[0m\n\u001b[0m\u001b[1;32m    395\u001b[0m \u001b[0;34m\u001b[0m\u001b[0m\n\u001b[1;32m    396\u001b[0m     \u001b[0;32mif\u001b[0m \u001b[0misinstance\u001b[0m\u001b[0;34m(\u001b[0m\u001b[0mix\u001b[0m\u001b[0;34m,\u001b[0m \u001b[0mpd\u001b[0m\u001b[0;34m.\u001b[0m\u001b[0mDatetimeIndex\u001b[0m\u001b[0;34m)\u001b[0m\u001b[0;34m:\u001b[0m\u001b[0;34m\u001b[0m\u001b[0m\n",
      "\u001b[0;31mAttributeError\u001b[0m: 'DatetimeIndex' object has no attribute 'order'"
     ]
    }
   ],
   "source": [
    "print(results.summary())"
   ]
  },
  {
   "cell_type": "code",
   "execution_count": 171,
   "metadata": {},
   "outputs": [
    {
     "data": {
      "text/plain": [
       "<matplotlib.axes._subplots.AxesSubplot at 0x120cb2eb8>"
      ]
     },
     "execution_count": 171,
     "metadata": {},
     "output_type": "execute_result"
    },
    {
     "data": {
      "image/png": "[encoded data removed]",
      "text/plain": [
       "<matplotlib.figure.Figure at 0x120cb5828>"
      ]
     },
     "metadata": {},
     "output_type": "display_data"
    }
   ],
   "source": [
    "results.plot_decomposition(legend=False, logy=True)\n"
   ]
  },
  {
   "cell_type": "code",
   "execution_count": 172,
   "metadata": {},
   "outputs": [
    {
     "name": "stderr",
     "output_type": "stream",
     "text": [
      "/Users/rhadadi/anaconda/lib/python3.6/site-packages/ipykernel_launcher.py:2: FutureWarning: 'argmax' is deprecated. Use 'idxmax' instead. The behavior of 'argmax' will be corrected to return the positional maximum in the future. Use 'series.values.argmax' to get the position of the maximum now.\n",
      "  \n",
      "2017-11-26 00:44:26,625 Running OLMAR...\n",
      "2017-11-26 00:44:27,417 Progress: 10.0%...\n",
      "2017-11-26 00:44:28,188 Progress: 20.0%...\n",
      "2017-11-26 00:44:28,964 Progress: 30.0%...\n",
      "2017-11-26 00:44:29,828 Progress: 40.0%...\n",
      "2017-11-26 00:44:30,687 Progress: 50.0%...\n",
      "2017-11-26 00:44:31,439 Progress: 60.0%...\n",
      "2017-11-26 00:44:32,201 Progress: 70.0%...\n",
      "2017-11-26 00:44:32,957 Progress: 80.0%...\n",
      "2017-11-26 00:44:33,729 Progress: 90.0%...\n",
      "2017-11-26 00:44:34,687 OLMAR finished successfully.\n"
     ]
    },
    {
     "ename": "AttributeError",
     "evalue": "'DatetimeIndex' object has no attribute 'order'",
     "output_type": "error",
     "traceback": [
      "\u001b[0;31m---------------------------------------------------------------------------\u001b[0m",
      "\u001b[0;31mAttributeError\u001b[0m                            Traceback (most recent call last)",
      "\u001b[0;32m<ipython-input-172-b20f8787754f>\u001b[0m in \u001b[0;36m<module>\u001b[0;34m()\u001b[0m\n\u001b[1;32m      6\u001b[0m \u001b[0;34m\u001b[0m\u001b[0m\n\u001b[1;32m      7\u001b[0m \u001b[0;31m# and print results\u001b[0m\u001b[0;34m\u001b[0m\u001b[0;34m\u001b[0m\u001b[0m\n\u001b[0;32m----> 8\u001b[0;31m \u001b[0mprint\u001b[0m\u001b[0;34m(\u001b[0m\u001b[0mresult_without\u001b[0m\u001b[0;34m.\u001b[0m\u001b[0msummary\u001b[0m\u001b[0;34m(\u001b[0m\u001b[0;34m)\u001b[0m\u001b[0;34m)\u001b[0m\u001b[0;34m\u001b[0m\u001b[0m\n\u001b[0m\u001b[1;32m      9\u001b[0m \u001b[0mresult_without\u001b[0m\u001b[0;34m.\u001b[0m\u001b[0mplot\u001b[0m\u001b[0;34m(\u001b[0m\u001b[0mweights\u001b[0m\u001b[0;34m=\u001b[0m\u001b[0;32mFalse\u001b[0m\u001b[0;34m,\u001b[0m \u001b[0massets\u001b[0m\u001b[0;34m=\u001b[0m\u001b[0;32mFalse\u001b[0m\u001b[0;34m,\u001b[0m \u001b[0mucrp\u001b[0m\u001b[0;34m=\u001b[0m\u001b[0;32mTrue\u001b[0m\u001b[0;34m,\u001b[0m \u001b[0mlogy\u001b[0m\u001b[0;34m=\u001b[0m\u001b[0;32mTrue\u001b[0m\u001b[0;34m)\u001b[0m\u001b[0;34m\u001b[0m\u001b[0m\n",
      "\u001b[0;32m~/anaconda/lib/python3.6/site-packages/universal/result.py\u001b[0m in \u001b[0;36msummary\u001b[0;34m(self, name)\u001b[0m\n\u001b[1;32m    212\u001b[0m             \u001b[0;34m''\u001b[0m \u001b[0;32mif\u001b[0m \u001b[0mname\u001b[0m \u001b[0;32mis\u001b[0m \u001b[0;32mNone\u001b[0m \u001b[0;32melse\u001b[0m \u001b[0;34m' for '\u001b[0m \u001b[0;34m+\u001b[0m \u001b[0mname\u001b[0m\u001b[0;34m,\u001b[0m\u001b[0;34m\u001b[0m\u001b[0m\n\u001b[1;32m    213\u001b[0m             \u001b[0mself\u001b[0m\u001b[0;34m.\u001b[0m\u001b[0mprofit_factor\u001b[0m\u001b[0;34m,\u001b[0m\u001b[0;34m\u001b[0m\u001b[0m\n\u001b[0;32m--> 214\u001b[0;31m             \u001b[0mself\u001b[0m\u001b[0;34m.\u001b[0m\u001b[0msharpe\u001b[0m\u001b[0;34m,\u001b[0m\u001b[0;34m\u001b[0m\u001b[0m\n\u001b[0m\u001b[1;32m    215\u001b[0m             \u001b[0mself\u001b[0m\u001b[0;34m.\u001b[0m\u001b[0minformation\u001b[0m\u001b[0;34m,\u001b[0m\u001b[0;34m\u001b[0m\u001b[0m\n\u001b[1;32m    216\u001b[0m             \u001b[0;36m100\u001b[0m \u001b[0;34m*\u001b[0m \u001b[0mself\u001b[0m\u001b[0;34m.\u001b[0m\u001b[0mannualized_return\u001b[0m\u001b[0;34m,\u001b[0m\u001b[0;34m\u001b[0m\u001b[0m\n",
      "\u001b[0;32m~/anaconda/lib/python3.6/site-packages/universal/result.py\u001b[0m in \u001b[0;36msharpe\u001b[0;34m(self)\u001b[0m\n\u001b[1;32m    131\u001b[0m         \u001b[0;32mnot\u001b[0m \u001b[0mcontain\u001b[0m \u001b[0mdatetime\u001b[0m \u001b[0mindex\u001b[0m\u001b[0;34m,\u001b[0m \u001b[0massume\u001b[0m \u001b[0mdaily\u001b[0m \u001b[0mfrequency\u001b[0m \u001b[0;32mwith\u001b[0m \u001b[0;36m252\u001b[0m \u001b[0mtrading\u001b[0m \u001b[0mdays\u001b[0m \u001b[0ma\u001b[0m \u001b[0myear\u001b[0m\u001b[0;34m.\u001b[0m\u001b[0;34m\u001b[0m\u001b[0m\n\u001b[1;32m    132\u001b[0m         \"\"\"\n\u001b[0;32m--> 133\u001b[0;31m         \u001b[0;32mreturn\u001b[0m \u001b[0mtools\u001b[0m\u001b[0;34m.\u001b[0m\u001b[0msharpe\u001b[0m\u001b[0;34m(\u001b[0m\u001b[0mself\u001b[0m\u001b[0;34m.\u001b[0m\u001b[0mr_log\u001b[0m\u001b[0;34m,\u001b[0m \u001b[0mrf_rate\u001b[0m\u001b[0;34m=\u001b[0m\u001b[0mself\u001b[0m\u001b[0;34m.\u001b[0m\u001b[0mrf_rate\u001b[0m\u001b[0;34m,\u001b[0m \u001b[0mfreq\u001b[0m\u001b[0;34m=\u001b[0m\u001b[0mself\u001b[0m\u001b[0;34m.\u001b[0m\u001b[0mfreq\u001b[0m\u001b[0;34m(\u001b[0m\u001b[0;34m)\u001b[0m\u001b[0;34m)\u001b[0m\u001b[0;34m\u001b[0m\u001b[0m\n\u001b[0m\u001b[1;32m    134\u001b[0m \u001b[0;34m\u001b[0m\u001b[0m\n\u001b[1;32m    135\u001b[0m     \u001b[0;34m@\u001b[0m\u001b[0mproperty\u001b[0m\u001b[0;34m\u001b[0m\u001b[0m\n",
      "\u001b[0;32m~/anaconda/lib/python3.6/site-packages/universal/result.py\u001b[0m in \u001b[0;36mfreq\u001b[0;34m(self, x)\u001b[0m\n\u001b[1;32m    197\u001b[0m         datetime index, assume daily frequency with 252 trading days a year.\"\"\"\n\u001b[1;32m    198\u001b[0m         \u001b[0mx\u001b[0m \u001b[0;34m=\u001b[0m \u001b[0mx\u001b[0m \u001b[0;32mor\u001b[0m \u001b[0mself\u001b[0m\u001b[0;34m.\u001b[0m\u001b[0mr\u001b[0m\u001b[0;34m\u001b[0m\u001b[0m\n\u001b[0;32m--> 199\u001b[0;31m         \u001b[0;32mreturn\u001b[0m \u001b[0mtools\u001b[0m\u001b[0;34m.\u001b[0m\u001b[0mfreq\u001b[0m\u001b[0;34m(\u001b[0m\u001b[0mx\u001b[0m\u001b[0;34m.\u001b[0m\u001b[0mindex\u001b[0m\u001b[0;34m)\u001b[0m\u001b[0;34m\u001b[0m\u001b[0m\n\u001b[0m\u001b[1;32m    200\u001b[0m \u001b[0;34m\u001b[0m\u001b[0m\n\u001b[1;32m    201\u001b[0m     \u001b[0;32mdef\u001b[0m \u001b[0msummary\u001b[0m\u001b[0;34m(\u001b[0m\u001b[0mself\u001b[0m\u001b[0;34m,\u001b[0m \u001b[0mname\u001b[0m\u001b[0;34m=\u001b[0m\u001b[0;32mNone\u001b[0m\u001b[0;34m)\u001b[0m\u001b[0;34m:\u001b[0m\u001b[0;34m\u001b[0m\u001b[0m\n",
      "\u001b[0;32m~/anaconda/lib/python3.6/site-packages/universal/tools.py\u001b[0m in \u001b[0;36mfreq\u001b[0;34m(ix)\u001b[0m\n\u001b[1;32m    392\u001b[0m     \u001b[0;31m# sort if data is not monotonic\u001b[0m\u001b[0;34m\u001b[0m\u001b[0;34m\u001b[0m\u001b[0m\n\u001b[1;32m    393\u001b[0m     \u001b[0;32mif\u001b[0m \u001b[0;32mnot\u001b[0m \u001b[0mix\u001b[0m\u001b[0;34m.\u001b[0m\u001b[0mis_monotonic\u001b[0m\u001b[0;34m:\u001b[0m\u001b[0;34m\u001b[0m\u001b[0m\n\u001b[0;32m--> 394\u001b[0;31m         \u001b[0mix\u001b[0m \u001b[0;34m=\u001b[0m \u001b[0mix\u001b[0m\u001b[0;34m.\u001b[0m\u001b[0msort_values\u001b[0m\u001b[0;34m(\u001b[0m\u001b[0;34m)\u001b[0m\u001b[0;34m\u001b[0m\u001b[0m\n\u001b[0m\u001b[1;32m    395\u001b[0m \u001b[0;34m\u001b[0m\u001b[0m\n\u001b[1;32m    396\u001b[0m     \u001b[0;32mif\u001b[0m \u001b[0misinstance\u001b[0m\u001b[0;34m(\u001b[0m\u001b[0mix\u001b[0m\u001b[0;34m,\u001b[0m \u001b[0mpd\u001b[0m\u001b[0;34m.\u001b[0m\u001b[0mDatetimeIndex\u001b[0m\u001b[0;34m)\u001b[0m\u001b[0;34m:\u001b[0m\u001b[0;34m\u001b[0m\u001b[0m\n",
      "\u001b[0;31mAttributeError\u001b[0m: 'DatetimeIndex' object has no attribute 'order'"
     ]
    }
   ],
   "source": [
    "# find name of the most profitable asset\n",
    "most_profitable = results.equity_decomposed.iloc[-1].argmax()\n",
    "\n",
    "# rerun an algorithm on data without it\n",
    "result_without = algo.run(prices.drop([most_profitable], 1))\n",
    "\n",
    "# and print results\n",
    "print(result_without.summary())\n",
    "result_without.plot(weights=False, assets=False, ucrp=True, logy=True)\n"
   ]
  },
  {
   "cell_type": "code",
   "execution_count": 176,
   "metadata": {},
   "outputs": [
    {
     "data": {
      "text/plain": [
       "array([  1.06572683e-02,   2.28310143e-08,   1.76876442e-08,\n",
       "         1.46975889e-08,   1.48428641e-03,   9.74465315e-01,\n",
       "         1.33930598e-02,   6.90762293e-09,   3.20075420e-09,\n",
       "         5.53397101e-09])"
      ]
     },
     "execution_count": 176,
     "metadata": {},
     "output_type": "execute_result"
    }
   ],
   "source": [
    "\n",
    "pfopt.tangency_portfolio(cov_matrix, mean_daily_returns).values"
   ]
  },
  {
   "cell_type": "code",
   "execution_count": 185,
   "metadata": {},
   "outputs": [
    {
     "name": "stdout",
     "output_type": "stream",
     "text": [
      "\n",
      "\n",
      "Example returns\n",
      "---------------\n",
      "date    2017-11-24  2017-11-22  2017-11-21  2017-11-20  2017-11-17  \\\n",
      "G_Fund    0.032513    0.016258    0.016259    0.050412    0.016263   \n",
      "F_Fund   -0.186586    0.590380    0.216519   -0.138217    0.103356   \n",
      "C_Fund    0.530779   -0.166450    1.651771    0.332042   -0.654722   \n",
      "S_Fund    0.453745   -0.098026    2.195669    1.265573    1.090860   \n",
      "I_Fund    2.218747    1.203712    1.022203    0.256655    0.071783   \n",
      "\n",
      "date    2017-11-16  2017-11-15  2017-11-14  2017-11-13  2017-11-10  \\\n",
      "G_Fund    0.016264    0.016265    0.016266    0.048808    0.016270   \n",
      "F_Fund   -0.241398    0.483723    0.246296    0.037790   -0.903701   \n",
      "C_Fund    2.144025   -1.334487   -0.541405    0.253234   -0.138368   \n",
      "S_Fund    3.050650   -1.132804   -0.648439    0.133445    0.263368   \n",
      "I_Fund    1.575494   -1.356556   -0.059995   -1.689591   -0.385506   \n",
      "\n",
      "date       ...      2003-06-17  2003-06-16  2003-06-13  2003-06-12  \\\n",
      "G_Fund     ...        0.000000    0.000000    0.000000    0.000000   \n",
      "F_Fund     ...       -0.750000   -0.499010    0.500000    0.250248   \n",
      "C_Fund     ...        0.240229    5.649123   -2.673095    0.486957   \n",
      "S_Fund     ...        0.242308    4.187683   -2.921739    0.732558   \n",
      "I_Fund     ...        2.135593    3.122974   -1.195446    1.201144   \n",
      "\n",
      "date    2003-06-11  2003-06-10  2003-06-06  2003-06-05  2003-06-04  2003-06-03  \n",
      "G_Fund    0.000000    0.252000    0.000000    0.000000    0.000000    0.000000  \n",
      "F_Fund    0.000000    1.764000    0.000000   -0.502994    0.251748    1.011033  \n",
      "C_Fund    3.205479   -0.737561   -0.490750    0.985337    3.750000    1.256231  \n",
      "S_Fund    3.214917   -1.475122   -1.223301    2.470588    4.015936   -0.250746  \n",
      "I_Fund    4.151163   -1.215043    2.206226    2.475442    1.494071   -1.238938  \n",
      "\n",
      "[5 rows x 3619 columns]\n",
      "...\n",
      "\n",
      "\n",
      "Average returns\n",
      "---------------\n",
      "L_Income    0.042860\n",
      "L_2020      0.063448\n",
      "L_2030      0.074659\n",
      "L_2040      0.082079\n",
      "L_2050      0.103449\n",
      "G_Fund      0.030540\n",
      "F_Fund      0.042162\n",
      "C_Fund      0.106900\n",
      "S_Fund      0.130722\n",
      "I_Fund      0.096664\n",
      "dtype: float64\n",
      "\n",
      "\n",
      "Covariance matrix\n",
      "-----------------\n",
      "              L_Income        L_2020        L_2030        L_2040  \\\n",
      "L_Income  5.848673e-06  1.702849e-05  2.078052e-05  2.378009e-05   \n",
      "L_2020    1.702849e-05  5.015587e-05  6.100872e-05  6.979788e-05   \n",
      "L_2030    2.078052e-05  6.100872e-05  7.438638e-05  8.510733e-05   \n",
      "L_2040    2.378009e-05  6.979788e-05  8.510733e-05  9.741892e-05   \n",
      "L_2050    1.466296e-05  3.942150e-05  5.048951e-05  5.827783e-05   \n",
      "G_Fund   -1.598201e-10 -1.258214e-08 -1.736884e-08 -2.045415e-08   \n",
      "F_Fund   -1.264652e-06 -4.102351e-06 -5.114828e-06 -5.869216e-06   \n",
      "C_Fund    2.888323e-05  8.435410e-05  1.029800e-04  1.178174e-04   \n",
      "S_Fund    3.196858e-05  9.343181e-05  1.145550e-04  1.312825e-04   \n",
      "I_Fund    2.968436e-05  8.758198e-05  1.066270e-04  1.220632e-04   \n",
      "\n",
      "                L_2050        G_Fund        F_Fund        C_Fund  \\\n",
      "L_Income  1.466296e-05 -1.598201e-10 -1.264652e-06  2.888323e-05   \n",
      "L_2020    3.942150e-05 -1.258214e-08 -4.102351e-06  8.435410e-05   \n",
      "L_2030    5.048951e-05 -1.736884e-08 -5.114828e-06  1.029800e-04   \n",
      "L_2040    5.827783e-05 -2.045415e-08 -5.869216e-06  1.178174e-04   \n",
      "L_2050    6.605410e-05 -1.830274e-08 -5.581746e-06  7.154730e-05   \n",
      "G_Fund   -1.830274e-08  4.882834e-08  1.416947e-08 -1.542828e-08   \n",
      "F_Fund   -5.581746e-06  1.416947e-08  5.515348e-06 -7.245396e-06   \n",
      "C_Fund    7.154730e-05 -1.542828e-08 -7.245396e-06  1.335969e-04   \n",
      "S_Fund    8.496040e-05 -4.607139e-08 -8.079285e-06  1.449184e-04   \n",
      "I_Fund    7.779020e-05  5.351683e-09 -5.439045e-06  1.216305e-04   \n",
      "\n",
      "                S_Fund        I_Fund  \n",
      "L_Income  3.196858e-05  2.968436e-05  \n",
      "L_2020    9.343181e-05  8.758198e-05  \n",
      "L_2030    1.145550e-04  1.066270e-04  \n",
      "L_2040    1.312825e-04  1.220632e-04  \n",
      "L_2050    8.496040e-05  7.779020e-05  \n",
      "G_Fund   -4.607139e-08  5.351683e-09  \n",
      "F_Fund   -8.079285e-06 -5.439045e-06  \n",
      "C_Fund    1.449184e-04  1.216305e-04  \n",
      "S_Fund    1.767632e-04  1.330631e-04  \n",
      "I_Fund    1.330631e-04  1.615531e-04  \n",
      "\n",
      "\n",
      "Minimum variance portfolio (long only)\n",
      "--------------------------------------\n",
      "Optimal weights:\n",
      "L_Income    0.011246\n",
      "L_2020      0.004443\n",
      "L_2030      0.003745\n",
      "L_2040      0.003339\n",
      "L_2050      0.005127\n",
      "G_Fund      0.891898\n",
      "F_Fund      0.071841\n",
      "C_Fund      0.002971\n",
      "S_Fund      0.002703\n",
      "I_Fund      0.002687\n",
      "dtype: float64\n",
      "\n",
      "Expected return:   0.03304586121748272\n",
      "Expected variance: nan\n",
      "Expected Sharpe:   nan\n",
      "\n",
      "\n",
      "Markowitz portfolio (long only, target return: 0.09870)\n",
      "-------------------------------------------------------\n",
      "Optimal weights:\n",
      "L_Income    0.000008\n",
      "L_2020      0.000006\n",
      "L_2030      0.000007\n",
      "L_2040      0.000007\n",
      "L_2050      0.680186\n",
      "G_Fund      0.000009\n",
      "F_Fund      0.152079\n",
      "C_Fund      0.000023\n",
      "S_Fund      0.167667\n",
      "I_Fund      0.000008\n",
      "dtype: float64\n",
      "\n",
      "Expected return:   0.09869980990669844\n",
      "Expected variance: nan\n",
      "Expected Sharpe:   nan\n",
      "\n",
      "\n",
      "Tangency portfolio (long only)\n",
      "------------------------------\n",
      "Optimal weights:\n",
      "L_Income    0.010639\n",
      "L_2020      0.000000\n",
      "L_2030      0.000000\n",
      "L_2040      0.000000\n",
      "L_2050      0.000000\n",
      "G_Fund      0.975838\n",
      "F_Fund      0.013523\n",
      "C_Fund      0.000000\n",
      "S_Fund      0.000000\n",
      "I_Fund      0.000000\n",
      "dtype: float64\n",
      "\n",
      "Expected return:   0.03082785499961826\n",
      "Expected variance: nan\n",
      "Expected Sharpe:   nan\n"
     ]
    },
    {
     "name": "stderr",
     "output_type": "stream",
     "text": [
      "/Users/rhadadi/anaconda/lib/python3.6/site-packages/pandas/core/indexes/base.py:3137: RuntimeWarning: Cannot compare type 'Timestamp' with type 'str', sort order is undefined for incomparable objects\n",
      "  return this.join(other, how=how, return_indexers=return_indexers)\n"
     ]
    }
   ],
   "source": [
    "#!/usr/bin/python\n",
    "\n",
    "# The MIT License (MIT)\n",
    "#\n",
    "# Copyright (c) 2015 Christian Zielinski\n",
    "#\n",
    "# Permission is hereby granted, free of charge, to any person obtaining a copy\n",
    "# of this software and associated documentation files (the \"Software\"), to deal\n",
    "# in the Software without restriction, including without limitation the rights\n",
    "# to use, copy, modify, merge, publish, distribute, sublicense, and/or sell\n",
    "# copies of the Software, and to permit persons to whom the Software is\n",
    "# furnished to do so, subject to the following conditions:\n",
    "#\n",
    "# The above copyright notice and this permission notice shall be included in all\n",
    "# copies or substantial portions of the Software.\n",
    "#\n",
    "# THE SOFTWARE IS PROVIDED \"AS IS\", WITHOUT WARRANTY OF ANY KIND, EXPRESS OR\n",
    "# IMPLIED, INCLUDING BUT NOT LIMITED TO THE WARRANTIES OF MERCHANTABILITY,\n",
    "# FITNESS FOR A PARTICULtAR PURPOSE AND NONINFRINGEMENT. IN NO EVENT SHALL THE\n",
    "# AUTHORS OR COPYRIGHT HOLDERS BE LIABLE FOR ANY CLAIM, DAMAGES OR OTHER\n",
    "# LIABILITY, WHETHER IN AN ACTION OF CONTRACT, TORT OR OTHERWISE, ARISING FROM,\n",
    "# OUT OF OR IN CONNECTION WITH THE SOFTWARE OR THE USE OR OTHER DEALINGS IN THE\n",
    "# SOFTWARE.\n",
    "\n",
    "import numpy as np\n",
    "import pandas as pd\n",
    "\n",
    "import portfolioopt as pfopt\n",
    "\n",
    "\n",
    "def section(caption):\n",
    "    print('\\n\\n' + str(caption))\n",
    "    print('-' * len(caption))\n",
    "\n",
    "\n",
    "def print_portfolio_info(returns, avg_rets, weights):\n",
    "    \"\"\"\n",
    "    Print information on expected portfolio performance.\n",
    "    \"\"\"\n",
    "    ret = (weights * avg_rets).sum()\n",
    "    std = (weights * returns).sum(1).std()\n",
    "    sharpe = ret / std\n",
    "    print(\"Optimal weights:\\n{}\\n\".format(weights))\n",
    "    print(\"Expected return:   {}\".format(ret))\n",
    "    print(\"Expected variance: {}\".format(std**2))\n",
    "    print(\"Expected Sharpe:   {}\".format(sharpe))\n",
    "\n",
    "\n",
    "def main():\n",
    "    returns =returns2 *252\n",
    "    cov_mat=cov_matrix\n",
    "    avg_rets = mean_daily_returns *252\n",
    "    \n",
    "    section(\"Example returns\")\n",
    "    print(returns.head(10))\n",
    "    print(\"...\")\n",
    "\n",
    "    section(\"Average returns\")\n",
    "    print(avg_rets)\n",
    "\n",
    "    section(\"Covariance matrix\")\n",
    "    print(cov_mat)\n",
    "\n",
    "    section(\"Minimum variance portfolio (long only)\")\n",
    "    weights = pfopt.min_var_portfolio(cov_mat)\n",
    "    print_portfolio_info(returns, avg_rets, weights)\n",
    "\n",
    "#     section(\"Minimum variance portfolio (long/short)\")\n",
    "#     weights = pfopt.min_var_portfolio(cov_mat, allow_short=True)\n",
    "#     print_portfolio_info(returns, avg_rets, weights)\n",
    "\n",
    "    # Define some target return, here the 70% quantile of the average returns\n",
    "    target_ret = avg_rets.quantile(0.7)\n",
    "\n",
    "    section(\"Markowitz portfolio (long only, target return: {:.5f})\".format(target_ret))\n",
    "    weights = pfopt.markowitz_portfolio(cov_mat, avg_rets, target_ret)\n",
    "    print_portfolio_info(returns, avg_rets, weights)\n",
    "\n",
    "#     section(\"Markowitz portfolio (long/short, target return: {:.5f})\".format(target_ret))\n",
    "#     weights = pfopt.markowitz_portfolio(cov_mat, avg_rets, target_ret, allow_short=True)\n",
    "#     print_portfolio_info(returns, avg_rets, weights)\n",
    "\n",
    "#     section(\"Markowitz portfolio (market neutral, target return: {:.5f})\".format(target_ret))\n",
    "#     weights = pfopt.markowitz_portfolio(cov_mat, avg_rets, target_ret, allow_short=True,\n",
    "#                                                                        market_neutral=True)\n",
    "#     print_portfolio_info(returns, avg_rets, weights)\n",
    "\n",
    "    section(\"Tangency portfolio (long only)\")\n",
    "    weights = pfopt.tangency_portfolio(cov_mat, avg_rets)\n",
    "    weights = pfopt.truncate_weights(weights)   # Truncate some tiny weights\n",
    "    print_portfolio_info(returns, avg_rets, weights)\n",
    "\n",
    "#     section(\"Tangency portfolio (long/short)\")\n",
    "#     weights = pfopt.tangency_portfolio(cov_mat, avg_rets, allow_short=True)\n",
    "#     print_portfolio_info(returns, avg_rets, weights)\n",
    "\n",
    "\n",
    "if __name__ == '__main__':\n",
    "    main()\n"
   ]
  }
 ],
 "metadata": {
  "hide_input": false,
  "kernelspec": {
   "display_name": "Python 3",
   "language": "python",
   "name": "python3"
  },
  "language_info": {
   "codemirror_mode": {
    "name": "ipython",
    "version": 3
   },
   "file_extension": ".py",
   "mimetype": "text/x-python",
   "name": "python",
   "nbconvert_exporter": "python",
   "pygments_lexer": "ipython3",
   "version": "3.6.3"
  },
  "latex_envs": {
   "LaTeX_envs_menu_present": true,
   "autocomplete": true,
   "bibliofile": "biblio.bib",
   "cite_by": "apalike",
   "current_citInitial": 1,
   "eqLabelWithNumbers": true,
   "eqNumInitial": 1,
   "hotkeys": {
    "equation": "Ctrl-E",
    "itemize": "Ctrl-I"
   },
   "labels_anchors": false,
   "latex_user_defs": false,
   "report_style_numbering": false,
   "user_envs_cfg": false
  },
  "nbTranslate": {
   "displayLangs": [
    "*"
   ],
   "hotkey": "alt-t",
   "langInMainMenu": true,
   "sourceLang": "fr",
   "targetLang": "fr",
   "useGoogleTranslate": true
  },
  "toc": {
   "colors": {
    "hover_highlight": "#DAA520",
    "navigate_num": "#000000",
    "navigate_text": "#333333",
    "running_highlight": "#FF0000",
    "selected_highlight": "#FFD700",
    "sidebar_border": "#EEEEEE",
    "wrapper_background": "#FFFFFF"
   },
   "moveMenuLeft": true,
   "nav_menu": {
    "height": "30px",
    "width": "252px"
   },
   "navigate_menu": true,
   "number_sections": false,
   "sideBar": true,
   "threshold": "3",
   "toc_cell": false,
   "toc_section_display": "block",
   "toc_window_display": false,
   "widenNotebook": false
  },
  "varInspector": {
   "cols": {
    "lenName": 16,
    "lenType": 16,
    "lenVar": 40
   },
   "kernels_config": {
    "python": {
     "delete_cmd_postfix": "",
     "delete_cmd_prefix": "del ",
     "library": "var_list.py",
     "varRefreshCmd": "print(var_dic_list())"
    },
    "r": {
     "delete_cmd_postfix": ") ",
     "delete_cmd_prefix": "rm(",
     "library": "var_list.r",
     "varRefreshCmd": "cat(var_dic_list()) "
    }
   },
   "types_to_exclude": [
    "module",
    "function",
    "builtin_function_or_method",
    "instance",
    "_Feature"
   ],
   "window_display": false
  }
 },
 "nbformat": 4,
 "nbformat_minor": 2
}
